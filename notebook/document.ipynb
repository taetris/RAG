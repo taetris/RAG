{
 "cells": [
  {
   "cell_type": "code",
   "execution_count": null,
   "id": "06afaec4",
   "metadata": {
    "vscode": {
     "languageId": "plaintext"
    }
   },
   "outputs": [],
   "source": [
    "### Data Ingestion\n",
    "\n",
    "Content and Metadata\n",
    "Loaders \n",
    "\n",
    "\n"
   ]
  },
  {
   "cell_type": "code",
   "execution_count": null,
   "id": "df3bdaf8",
   "metadata": {},
   "outputs": [],
   "source": [
    "# Install and register a new Jupyter kernel named \"notebook-kernel\"\n",
    "# Run this cell to add a kernel for the current Python environment.\n",
    "import sys\n",
    "import subprocess\n",
    "import shlex\n",
    "\n",
    "def run(cmd):\n",
    "    print(f\"Running: {cmd}\")\n",
    "    proc = subprocess.run(shlex.split(cmd), check=False, stdout=subprocess.PIPE, stderr=subprocess.PIPE, text=True)\n",
    "    if proc.stdout:\n",
    "        print(proc.stdout)\n",
    "    if proc.returncode != 0 and proc.stderr:\n",
    "        print(proc.stderr)\n",
    "    return proc.returncode\n",
    "\n",
    "# Ensure ipykernel is available\n",
    "run(f\"{sys.executable} -m pip install --user ipykernel\")\n",
    "\n",
    "# Create/register kernel\n",
    "kernel_name = \"notebook-kernel\"\n",
    "display_name = \"Python (notebook-kernel)\"\n",
    "run(f\"{sys.executable} -m ipykernel install --user --name {kernel_name} --display-name \\\"{display_name}\\\"\")\n",
    "\n",
    "print(f\"Kernel '{kernel_name}' registered with display name '{display_name}'.\")"
   ]
  },
  {
   "cell_type": "code",
   "execution_count": null,
   "id": "d64d83ef",
   "metadata": {
    "vscode": {
     "languageId": "plaintext"
    }
   },
   "outputs": [],
   "source": []
  },
  {
   "cell_type": "code",
   "execution_count": null,
   "id": "d80b9657",
   "metadata": {
    "vscode": {
     "languageId": "plaintext"
    }
   },
   "outputs": [],
   "source": [
    "from random install random"
   ]
  },
  {
   "cell_type": "markdown",
   "id": "0304b309",
   "metadata": {},
   "source": []
  }
 ],
 "metadata": {
  "language_info": {
   "name": "python"
  }
 },
 "nbformat": 4,
 "nbformat_minor": 5
}
